{
 "cells": [
  {
   "cell_type": "markdown",
   "id": "15b3c343",
   "metadata": {},
   "source": [
    "# Load Library"
   ]
  },
  {
   "cell_type": "code",
   "execution_count": 43,
   "id": "fecd2679",
   "metadata": {},
   "outputs": [],
   "source": [
    "# Load libraries\n",
    "import pandas as pd\n",
    "import numpy as np\n",
    "from pandas import read_csv\n",
    "from sklearn.model_selection import train_test_split\n",
    "from sklearn.model_selection import cross_val_score\n",
    "from sklearn.model_selection import StratifiedKFold\n",
    "from sklearn.metrics import classification_report\n",
    "from sklearn.metrics import confusion_matrix\n",
    "from sklearn.metrics import accuracy_score\n",
    "from sklearn.linear_model import LogisticRegression\n",
    "from sklearn.tree import DecisionTreeClassifier\n",
    "from sklearn.neighbors import KNeighborsClassifier\n",
    "from sklearn.svm import SVC\n",
    "from numpy import mean\n",
    "from numpy import std\n",
    "from sklearn.model_selection import RepeatedStratifiedKFold\n",
    "from sklearn.feature_selection import RFE\n",
    "from sklearn.preprocessing import StandardScaler\n",
    "from sklearn.model_selection import train_test_split\n",
    "from imblearn.over_sampling import SMOTE\n",
    "from imblearn.pipeline import make_pipeline\n",
    "from sklearn.svm import LinearSVC\n",
    "from sklearn.metrics import accuracy_score"
   ]
  },
  {
   "cell_type": "markdown",
   "id": "663c0c0b",
   "metadata": {},
   "source": [
    "# Load and Split data"
   ]
  },
  {
   "cell_type": "code",
   "execution_count": 44,
   "id": "ca71e665",
   "metadata": {},
   "outputs": [
    {
     "name": "stdout",
     "output_type": "stream",
     "text": [
      "(702, 20)\n"
     ]
    }
   ],
   "source": [
    "# Load dataset\n",
    "dataset = read_csv(\"D:/Academy/thesis/machin learning part/data/inputML_Q.csv\")\n",
    "# dataset = read_csv(\"D:/Academy/thesis/machin learning part/data/inputML_RGN.csv\")\n",
    "# dataset = read_csv(\"D:/Academy/thesis/machin learning part/data/random_inputML.csv\")\n",
    "#\n",
    "dataset.set_index('name', inplace=True)\n",
    "dataset['stage'].replace({'brain lower grade glioma':False, 'glioblastoma multiforme':True}, inplace=True)\n",
    "dataset[dataset.select_dtypes(['object']).columns] = dataset.select_dtypes(['object']).apply(lambda x: x.astype('category'))\n",
    "print(dataset.shape)"
   ]
  },
  {
   "cell_type": "code",
   "execution_count": 24,
   "id": "8d60ee0c",
   "metadata": {
    "collapsed": true
   },
   "outputs": [
    {
     "name": "stdout",
     "output_type": "stream",
     "text": [
      "Train (448, 19) (448,)\n",
      "Test (141, 19) (141,)\n",
      "Validation (113, 19) (113,)\n"
     ]
    },
    {
     "ename": "NameError",
     "evalue": "name 'sort' is not defined",
     "output_type": "error",
     "traceback": [
      "\u001b[1;31m---------------------------------------------------------------------------\u001b[0m",
      "\u001b[1;31mNameError\u001b[0m                                 Traceback (most recent call last)",
      "Input \u001b[1;32mIn [24]\u001b[0m, in \u001b[0;36m<cell line: 15>\u001b[1;34m()\u001b[0m\n\u001b[0;32m     13\u001b[0m model \u001b[38;5;241m=\u001b[39m ExtraTreesClassifier(n_estimators\u001b[38;5;241m=\u001b[39m\u001b[38;5;241m10\u001b[39m)\n\u001b[0;32m     14\u001b[0m model\u001b[38;5;241m.\u001b[39mfit(x_train, y_train)\n\u001b[1;32m---> 15\u001b[0m \u001b[38;5;28mprint\u001b[39m(\u001b[43msort\u001b[49m(model\u001b[38;5;241m.\u001b[39mfeature_importances_))\n",
      "\u001b[1;31mNameError\u001b[0m: name 'sort' is not defined"
     ]
    }
   ],
   "source": [
    "# Split dataset\n",
    "X = dataset.drop('stage', axis=1)\n",
    "y = dataset['stage']\n",
    "x_main, x_test, y_main, y_test = train_test_split(X, y, test_size=0.20, random_state=1, stratify=y)\n",
    "x_train, x_val, y_train, y_val = train_test_split(x_main, y_main, test_size=0.20, random_state=1, stratify=y_main)\n",
    "# summarize\n",
    "print('Train', x_train.shape, y_train.shape)\n",
    "print('Test', x_test.shape, y_test.shape)\n",
    "print('Validation', x_val.shape, y_val.shape)"
   ]
  },
  {
   "cell_type": "markdown",
   "id": "36e6b0da",
   "metadata": {},
   "source": [
    "# Feature Selection"
   ]
  },
  {
   "cell_type": "code",
   "execution_count": 52,
   "id": "1456edb0",
   "metadata": {},
   "outputs": [
    {
     "name": "stdout",
     "output_type": "stream",
     "text": [
      "['AREG' 'IGF1R' 'PLAT' 'BCAR1' 'HDAC3' 'PDGFA' 'PDGFB' 'UBA52']\n",
      "['AREG' 'IGF1R' 'EGR1' 'PLAT' 'BCAR1' 'HDAC3' 'PDGFA' 'PDGFRA' 'PDGFB'\n",
      " 'UBA52']\n",
      "Train_fs (448, 8)\n",
      "Test_fs (448, 10)\n"
     ]
    }
   ],
   "source": [
    "# require library\n",
    "from sklearn.feature_selection import SelectKBest\n",
    "from sklearn.feature_selection import f_classif\n",
    "from sklearn.feature_selection import mutual_info_classif\n",
    "\n",
    "# define feature selection baced on ANOVA test\n",
    "fs1 = SelectKBest(score_func=f_classif, k= 8)\n",
    "fs2 = SelectKBest(score_func= mutual_info_classif, k=10)\n",
    "fs1.fit(x_train, y_train)\n",
    "fs2.fit(x_train, y_train)\n",
    "\n",
    "# summarize selected features\n",
    "print(x_train.columns.values[fs1.get_support()])\n",
    "print(x_train.columns.values[fs2.get_support()])\n",
    "x_train_fs1 = fs1.transform(x_train)\n",
    "x_train_fs2 = fs2.transform(x_train)\n",
    "print('Train_fs', x_train_fs1.shape)\n",
    "print('Test_fs', x_train_fs2.shape)"
   ]
  },
  {
   "cell_type": "markdown",
   "id": "e996ed49",
   "metadata": {},
   "source": [
    "# Wrapper"
   ]
  },
  {
   "cell_type": "code",
   "execution_count": 55,
   "id": "1536dca7",
   "metadata": {},
   "outputs": [
    {
     "name": "stdout",
     "output_type": "stream",
     "text": [
      "Num Features: 8\n",
      "Selected Features: [False  True False  True False  True False  True False False False  True\n",
      " False  True  True False False  True False]\n",
      "Feature Ranking: [10  1 12  1  2  1  6  1  9  3  8  1 11  1  1  4  7  1  5]\n"
     ]
    },
    {
     "data": {
      "text/plain": [
       "array(['EGFR', 'MYC', 'HSP90AA1', 'IGF1R', 'PLAT', 'HDAC3', 'PDGFA',\n",
       "       'TGFA'], dtype=object)"
      ]
     },
     "execution_count": 55,
     "metadata": {},
     "output_type": "execute_result"
    }
   ],
   "source": [
    "from sklearn.feature_selection import RFE\n",
    "from sklearn.tree import DecisionTreeClassifier\n",
    "\n",
    "model = DecisionTreeClassifier()\n",
    "rfe = RFE(estimator = model, n_features_to_select = 8)\n",
    "rfe.fit(x_train, y_train)\n",
    "x_train_rfe = rfe.transform(x_train)\n",
    "\n",
    "# summarize selected features\n",
    "print(\"Num Features: %d\" % rfe.n_features_)\n",
    "print(\"Selected Features: %s\" % rfe.support_)\n",
    "print(\"Feature Ranking: %s\" % rfe.ranking_)\n",
    "x_train.columns.values[rfe.support_]\n",
    "\n",
    "x_train_rfe = rfe.transform(x_train)\n",
    "# summarize data\n",
    "print('Train_fs', x_train_rfe.shape)"
   ]
  },
  {
   "cell_type": "code",
   "execution_count": 56,
   "id": "67cbfa06",
   "metadata": {},
   "outputs": [
    {
     "name": "stdout",
     "output_type": "stream",
     "text": [
      "Train_fs (448, 8)\n"
     ]
    }
   ],
   "source": []
  },
  {
   "cell_type": "code",
   "execution_count": null,
   "id": "049b6858",
   "metadata": {},
   "outputs": [],
   "source": []
  },
  {
   "cell_type": "code",
   "execution_count": null,
   "id": "8e04fd98",
   "metadata": {},
   "outputs": [],
   "source": []
  },
  {
   "cell_type": "code",
   "execution_count": null,
   "id": "3a6840b5",
   "metadata": {},
   "outputs": [],
   "source": []
  },
  {
   "cell_type": "code",
   "execution_count": 36,
   "id": "1d46247a",
   "metadata": {},
   "outputs": [
    {
     "name": "stdout",
     "output_type": "stream",
     "text": [
      ">2 0.716 (0.092)\n"
     ]
    },
    {
     "ename": "TypeError",
     "evalue": "%d format: a number is required, not RFE",
     "output_type": "error",
     "traceback": [
      "\u001b[1;31m---------------------------------------------------------------------------\u001b[0m",
      "\u001b[1;31mTypeError\u001b[0m                                 Traceback (most recent call last)",
      "Input \u001b[1;32mIn [36]\u001b[0m, in \u001b[0;36m<cell line: 32>\u001b[1;34m()\u001b[0m\n\u001b[0;32m     35\u001b[0m \tnames\u001b[38;5;241m.\u001b[39mappend(name)\n\u001b[0;32m     36\u001b[0m \t\u001b[38;5;28mprint\u001b[39m(\u001b[38;5;124m'\u001b[39m\u001b[38;5;124m>\u001b[39m\u001b[38;5;132;01m%s\u001b[39;00m\u001b[38;5;124m \u001b[39m\u001b[38;5;132;01m%.3f\u001b[39;00m\u001b[38;5;124m (\u001b[39m\u001b[38;5;132;01m%.3f\u001b[39;00m\u001b[38;5;124m)\u001b[39m\u001b[38;5;124m'\u001b[39m \u001b[38;5;241m%\u001b[39m (name, mean(scores), std(scores)))\n\u001b[1;32m---> 37\u001b[0m \t\u001b[38;5;28mprint\u001b[39m(\u001b[38;5;124;43m\"\u001b[39;49m\u001b[38;5;124;43mNum Features: \u001b[39;49m\u001b[38;5;132;43;01m%d\u001b[39;49;00m\u001b[38;5;124;43m\"\u001b[39;49m\u001b[43m \u001b[49m\u001b[38;5;241;43m%\u001b[39;49m\u001b[43m \u001b[49m\u001b[43mmodel\u001b[49m\u001b[38;5;241;43m.\u001b[39;49m\u001b[43mnamed_steps\u001b[49m\u001b[43m[\u001b[49m\u001b[38;5;124;43m'\u001b[39;49m\u001b[38;5;124;43ms\u001b[39;49m\u001b[38;5;124;43m'\u001b[39;49m\u001b[43m]\u001b[49m)\n\u001b[0;32m     38\u001b[0m \t\u001b[38;5;66;03m#print(\"Selected Features: %s\" % model.support_)\u001b[39;00m\n\u001b[0;32m     39\u001b[0m \t\u001b[38;5;66;03m#print(\"Feature Ranking: %s\" % model.ranking_)\u001b[39;00m\n\u001b[0;32m     40\u001b[0m \n\u001b[0;32m     41\u001b[0m \u001b[38;5;66;03m# plot model performance for comparison\u001b[39;00m\n\u001b[0;32m     42\u001b[0m pyplot\u001b[38;5;241m.\u001b[39mboxplot(results, labels\u001b[38;5;241m=\u001b[39mnames, showmeans\u001b[38;5;241m=\u001b[39m\u001b[38;5;28;01mTrue\u001b[39;00m)\n",
      "\u001b[1;31mTypeError\u001b[0m: %d format: a number is required, not RFE"
     ]
    }
   ],
   "source": [
    "# explore the number of selected features for RFE\n",
    "from numpy import mean\n",
    "from numpy import std\n",
    "from sklearn.datasets import make_classification\n",
    "from sklearn.model_selection import cross_val_score\n",
    "from sklearn.model_selection import RepeatedStratifiedKFold\n",
    "from sklearn.feature_selection import RFE\n",
    "from sklearn.tree import DecisionTreeClassifier\n",
    "from sklearn.pipeline import Pipeline\n",
    "from matplotlib import pyplot\n",
    "\n",
    "# get a list of models to evaluate\n",
    "def get_models():\n",
    "\tmodels = dict()\n",
    "\tfor i in range(2, 15):\n",
    "\t\trfe = RFE(estimator=DecisionTreeClassifier(), n_features_to_select=i)\n",
    "\t\tmodel = LinearSVC(dual=False, random_state=13)\n",
    "\t\tmodels[str(i)] = Pipeline(steps=[('s',rfe),('m',model)])\n",
    "\treturn models\n",
    "\n",
    "# evaluate a give model using cross-validation\n",
    "def evaluate_model(model, X, y):\n",
    "\tcv = RepeatedStratifiedKFold(n_splits=10, n_repeats=3, random_state=1)\n",
    "\tscores = cross_val_score(model, X, y, scoring='f1', cv=cv, n_jobs=-1, error_score='raise')\n",
    "\treturn scores\n",
    "\n",
    "# define dataset\n",
    "# get the models to evaluate\n",
    "models = get_models()\n",
    "# evaluate the models and store results\n",
    "results, names = list(), list()\n",
    "for name, model in models.items():\n",
    "\tscores = evaluate_model(model, x_train, y_train)\n",
    "\tresults.append(scores)\n",
    "\tnames.append(name)\n",
    "\tprint('>%s %.3f (%.3f)' % (name, mean(scores), std(scores)))\n",
    "\tprint(\"Num Features: %d\" % model.named_steps['s'])\n",
    "\t#print(\"Selected Features: %s\" % model.support_)\n",
    "\t#print(\"Feature Ranking: %s\" % model.ranking_)\n",
    "\n",
    "# plot model performance for comparison\n",
    "pyplot.boxplot(results, labels=names, showmeans=True)\n",
    "pyplot.show()"
   ]
  },
  {
   "cell_type": "code",
   "execution_count": 4,
   "id": "b40ce696",
   "metadata": {},
   "outputs": [
    {
     "name": "stdout",
     "output_type": "stream",
     "text": [
      "Counter({False: 339, True: 109})\n",
      "Counter({False: 106, True: 35})\n",
      "Counter({False: 85, True: 28})\n"
     ]
    }
   ],
   "source": [
    "from collections import Counter\n",
    "print(Counter(y_train))\n",
    "print(Counter(y_test))\n",
    "print(Counter(y_val))"
   ]
  },
  {
   "cell_type": "markdown",
   "id": "65d4eec3",
   "metadata": {},
   "source": [
    "# Apply SMOTE"
   ]
  },
  {
   "cell_type": "code",
   "execution_count": 5,
   "id": "5f5dcc00",
   "metadata": {},
   "outputs": [
    {
     "name": "stdout",
     "output_type": "stream",
     "text": [
      "Counter({False: 339, True: 339})\n"
     ]
    }
   ],
   "source": [
    "oversample = SMOTE()\n",
    "x_train, y_train = oversample.fit_resample(x_train, y_train)\n",
    "print(Counter(y_train))"
   ]
  },
  {
   "cell_type": "code",
   "execution_count": 5,
   "id": "9dbdb5de",
   "metadata": {},
   "outputs": [
    {
     "name": "stdout",
     "output_type": "stream",
     "text": [
      "Counter({False: 339, True: 109})\n"
     ]
    }
   ],
   "source": [
    "print(Counter(y_train))"
   ]
  },
  {
   "cell_type": "markdown",
   "id": "19b839ad",
   "metadata": {},
   "source": [
    "# Fitting some Models"
   ]
  },
  {
   "cell_type": "code",
   "execution_count": 21,
   "id": "c80ac13d",
   "metadata": {},
   "outputs": [
    {
     "ename": "TypeError",
     "evalue": "__init__() takes 2 positional arguments but 3 were given",
     "output_type": "error",
     "traceback": [
      "\u001b[1;31m---------------------------------------------------------------------------\u001b[0m",
      "\u001b[1;31mTypeError\u001b[0m                                 Traceback (most recent call last)",
      "Input \u001b[1;32mIn [21]\u001b[0m, in \u001b[0;36m<cell line: 13>\u001b[1;34m()\u001b[0m\n\u001b[0;32m     11\u001b[0m \u001b[38;5;28;01mfrom\u001b[39;00m \u001b[38;5;21;01msklearn\u001b[39;00m\u001b[38;5;21;01m.\u001b[39;00m\u001b[38;5;21;01mneighbors\u001b[39;00m \u001b[38;5;28;01mimport\u001b[39;00m KNeighborsClassifier \n\u001b[0;32m     12\u001b[0m knn \u001b[38;5;241m=\u001b[39m KNeighborsClassifier(n_neighbors\u001b[38;5;241m=\u001b[39m\u001b[38;5;241m12\u001b[39m, metric\u001b[38;5;241m=\u001b[39m\u001b[38;5;124m'\u001b[39m\u001b[38;5;124mminkowski\u001b[39m\u001b[38;5;124m'\u001b[39m, p\u001b[38;5;241m=\u001b[39m\u001b[38;5;241m2\u001b[39m) \n\u001b[1;32m---> 13\u001b[0m knn \u001b[38;5;241m=\u001b[39m \u001b[43mRFE\u001b[49m\u001b[43m(\u001b[49m\u001b[43mknn\u001b[49m\u001b[43m,\u001b[49m\u001b[43m \u001b[49m\u001b[38;5;241;43m8\u001b[39;49m\u001b[43m)\u001b[49m\n\u001b[0;32m     14\u001b[0m fit \u001b[38;5;241m=\u001b[39m rfe\u001b[38;5;241m.\u001b[39mfit(x_train, y_train) \n\u001b[0;32m     15\u001b[0m \u001b[38;5;28mprint\u001b[39m(\u001b[38;5;124m\"\u001b[39m\u001b[38;5;124mNum Features: \u001b[39m\u001b[38;5;132;01m%d\u001b[39;00m\u001b[38;5;124m\"\u001b[39m \u001b[38;5;241m%\u001b[39m fit\u001b[38;5;241m.\u001b[39mn_features_)\n",
      "\u001b[1;31mTypeError\u001b[0m: __init__() takes 2 positional arguments but 3 were given"
     ]
    }
   ],
   "source": [
    "# Fitting Model\n",
    "from xgboost import XGBClassifier\n",
    "from sklearn.linear_model import LogisticRegression\n",
    "from sklearn.ensemble import RandomForestClassifier, VotingClassifier\n",
    "from sklearn.metrics import roc_auc_score\n",
    "from sklearn.inspection import permutation_importance\n",
    "from scipy.stats import loguniform\n",
    "from sklearn.feature_selection import RFE\n",
    "\n",
    "# KNN\n",
    "from sklearn.neighbors import KNeighborsClassifier \n",
    "knn = KNeighborsClassifier(n_neighbors=12, metric='minkowski', p=2) \n",
    "knn.fit(x_train, y_train) \n",
    "print(\"Num Features: %d\" % fit.n_features_)\n",
    "print(\"Selected Features: %s\" % fit.support_)\n",
    "print(\"Feature Ranking: %s\" % fit.ranking_)\n",
    "\n",
    "# Decision Tree\n",
    "from sklearn.tree import DecisionTreeClassifier \n",
    "dtc = DecisionTreeClassifier(criterion=\"gini\", random_state=42, max_depth=3, min_samples_leaf=5) \n",
    "dtc = dtc.fit(x_train, y_train) \n",
    "\n",
    "\n",
    "# SVM\n",
    "from sklearn.svm import SVC\n",
    "svm = SVC(kernel = 'rbf')\n",
    "svm = svm.fit(x_train, y_train) \n",
    "\n",
    "# Linear SVM\n",
    "lsvm = LinearSVC(dual=False, random_state=13)\n",
    "lsvm = lsvm.fit(x_train, y_train) \n",
    "\n",
    "\n",
    "# Logestic regression\n",
    "LR = LogisticRegression(solver='liblinear')\n",
    "LR = LR.fit(x_train, y_train)\n",
    "\n",
    "#RFE\n",
    "rfe = RFE(estimator=DecisionTreeClassifier(), n_features_to_select=15)\n",
    "rfe = rfe.fit(x_train, y_train)     \n",
    "\n",
    "# XGB\n",
    "xgb = XGBClassifier(tree_method=\"hist\")\n",
    "xgb = xgb.fit(x_train, y_train) \n",
    "\n",
    "from imblearn.ensemble import BalancedBaggingClassifier\n",
    "from sklearn.tree import DecisionTreeClassifier\n",
    "#Create an instance\n",
    "# classifier = BalancedBaggingClassifier(base_estimator=DecisionTreeClassifier(),\n",
    "#                                 sampling_strategy='not majority',\n",
    "#                                 replacement=False,\n",
    "#                                 random_state=42)\n",
    "\n",
    "classifier = BalancedBaggingClassifier(random_state=42)\n",
    "classifier.fit(x_train, y_train)\n"
   ]
  },
  {
   "cell_type": "markdown",
   "id": "98249dab",
   "metadata": {},
   "source": [
    "# Compare different Classifiers"
   ]
  },
  {
   "cell_type": "code",
   "execution_count": 18,
   "id": "fe604f9c",
   "metadata": {},
   "outputs": [
    {
     "name": "stdout",
     "output_type": "stream",
     "text": [
      "[('LR', LogisticRegression(solver='liblinear')), ('KNN', KNeighborsClassifier(n_neighbors=12)), ('DTC', DecisionTreeClassifier(max_depth=3, min_samples_leaf=5, random_state=42)), ('SVM', SVC()), ('LSVM', LinearSVC(dual=False, random_state=13)), ('RFE', RFE(estimator=DecisionTreeClassifier(), n_features_to_select=15)), ('XGB', XGBClassifier(base_score=None, booster=None, callbacks=None,\n",
      "              colsample_bylevel=None, colsample_bynode=None,\n",
      "              colsample_bytree=None, early_stopping_rounds=None,\n",
      "              enable_categorical=False, eval_metric=None, feature_types=None,\n",
      "              gamma=None, gpu_id=None, grow_policy=None, importance_type=None,\n",
      "              interaction_constraints=None, learning_rate=None, max_bin=None,\n",
      "              max_cat_threshold=None, max_cat_to_onehot=None,\n",
      "              max_delta_step=None, max_depth=None, max_leaves=None,\n",
      "              min_child_weight=None, missing=nan, monotone_constraints=None,\n",
      "              n_estimators=100, n_jobs=None, num_parallel_tree=None,\n",
      "              predictor=None, random_state=None, ...)), ('Bagging', BalancedBaggingClassifier(random_state=42))]\n",
      "LR: 0.780204 (0.080591)\n",
      "KNN: 0.704984 (0.100701)\n",
      "DTC: 0.747438 (0.089534)\n",
      "SVM: 0.756084 (0.072818)\n",
      "LSVM: 0.777437 (0.078098)\n",
      "RFE: 0.737154 (0.097273)\n",
      "XGB: 0.787210 (0.100010)\n",
      "Bagging: 0.769945 (0.095086)\n"
     ]
    }
   ],
   "source": [
    "from sklearn.model_selection import cross_val_score\n",
    "from sklearn.metrics import f1_score\n",
    "models = []\n",
    "models.append(('LR', LR))\n",
    "models.append(('KNN', knn))\n",
    "models.append(('DTC', dtc))\n",
    "models.append(('SVM', svm))\n",
    "models.append(('LSVM', lsvm))\n",
    "models.append(('RFE',rfe))\n",
    "models.append(('XGB', xgb))\n",
    "models.append(('Bagging', classifier))\n",
    "\n",
    "\n",
    "print(models)\n",
    "\n",
    "# evaluate each model in turn\n",
    "results = []\n",
    "names = []\n",
    "for name, model in models:\n",
    "\tkfold = RepeatedStratifiedKFold(n_splits=10, n_repeats=3, random_state=1)\n",
    "\tcv_results = cross_val_score(model, x_train, y_train, cv=kfold, scoring='f1')#f1 roc_auc\n",
    "\tresults.append(cv_results)\n",
    "\tnames.append(name)\n",
    "\tprint('%s: %f (%f)' % (name, cv_results.mean(), cv_results.std()))\n"
   ]
  },
  {
   "cell_type": "code",
   "execution_count": 10,
   "id": "50c846ae",
   "metadata": {
    "collapsed": true
   },
   "outputs": [
    {
     "data": {
      "image/png": "[encoded data removed]",
      "text/plain": [
       "<Figure size 432x288 with 1 Axes>"
      ]
     },
     "metadata": {
      "needs_background": "light"
     },
     "output_type": "display_data"
    }
   ],
   "source": [
    "# Compare Algorithms\n",
    "# import matplotlib. pyplot as plt \n",
    "# plt.boxplot(results, labels=names)\n",
    "# plt.title('Algorithm Comparison')\n",
    "# plt.show()"
   ]
  },
  {
   "cell_type": "code",
   "execution_count": 20,
   "id": "1b692d90",
   "metadata": {},
   "outputs": [
    {
     "name": "stdout",
     "output_type": "stream",
     "text": [
      "Best Threshold=0.240000, G-Mean=0.942\n"
     ]
    },
    {
     "data": {
      "image/png": "[encoded data removed]",
      "text/plain": [
       "<Figure size 432x288 with 1 Axes>"
      ]
     },
     "metadata": {
      "needs_background": "light"
     },
     "output_type": "display_data"
    }
   ],
   "source": [
    "from sklearn.ensemble import RandomForestClassifier\n",
    "from numpy import sqrt\n",
    "from numpy import argmax\n",
    "from sklearn.datasets import make_classification\n",
    "from sklearn.model_selection import train_test_split\n",
    "from sklearn.metrics import roc_curve\n",
    "from matplotlib import pyplot\n",
    "\n",
    "rf_model = RandomForestClassifier()\n",
    "rf_model.fit(x_train,y_train)   \n",
    "y_hat = rf_model.predict_proba(x_test) #probability of the class label\n",
    "y_hat = y_hat[:, 1]\n",
    "y_hat\n",
    "# calculate roc curves\n",
    "fpr, tpr, thresholds = roc_curve(y_test, y_hat)\n",
    "from numpy import sqrt\n",
    "gmeans = sqrt(tpr * (1-fpr))\n",
    "# locate the index of the largest g-mean\n",
    "ix = argmax(gmeans)\n",
    "print('Best Threshold=%f, G-Mean=%.3f' % (thresholds[ix], gmeans[ix]))\n",
    "# plot the roc curve for the model\n",
    "pyplot.plot([0,1], [0,1], linestyle='--', label='No Skill')\n",
    "pyplot.plot(fpr, tpr, marker='.', label='Random Forest')\n",
    "pyplot.scatter(fpr[ix], tpr[ix], marker='o', color='black', label='Best')\n",
    "# axis labels\n",
    "pyplot.xlabel('False Positive Rate')\n",
    "pyplot.ylabel('True Positive Rate')\n",
    "pyplot.legend()\n",
    "# show the plot\n",
    "pyplot.show()"
   ]
  },
  {
   "cell_type": "markdown",
   "id": "e920e0a6",
   "metadata": {},
   "source": [
    "# Model Evaluation on Test  set"
   ]
  },
  {
   "cell_type": "code",
   "execution_count": 10,
   "id": "b86effc7",
   "metadata": {},
   "outputs": [
    {
     "name": "stdout",
     "output_type": "stream",
     "text": [
      "Accuracy KNN: 86.84\n",
      "Accuracy DT: 85.71\n",
      "Accuracy SVM: 85.00\n",
      "Accuracy LR: 85.71\n",
      "Accuracy LSVM: 83.54\n",
      "Accuracy RFE: 84.62\n",
      "F1 Score XGB: 92.96\n",
      "[[96 10]\n",
      " [ 2 33]]\n",
      "              precision    recall  f1-score   support\n",
      "\n",
      "       False       0.98      0.92      0.95       106\n",
      "        True       0.80      0.94      0.87        35\n",
      "\n",
      "    accuracy                           0.93       141\n",
      "   macro avg       0.89      0.93      0.91       141\n",
      "weighted avg       0.94      0.93      0.93       141\n",
      "\n"
     ]
    }
   ],
   "source": [
    "# transform test input data\n",
    "X_test_fs1 = fs1.transform(x_test)\n",
    "X_test_rfe = rfe.transform(X_test)\n",
    "\n",
    "\n",
    "Y_knn = knn.predict(x_test) \n",
    "Y_dtc = dtc.predict(x_test) \n",
    "Y_svm = svm.predict(x_test) \n",
    "Y_lr = LR.predict(x_test)\n",
    "Y_lsvm = lsvm.predict(x_test) \n",
    "#Y_rfe = rfe.predict(x_test) \n",
    "Y_rfe = (rfe.predict_proba(x_test)[:,1] >= 0.2).astype(bool)\n",
    "Y_xgb = xgb.predict(x_test) \n",
    "\n",
    "# Evaluate predictions \n",
    "from sklearn.metrics import classification_report\n",
    "from sklearn.metrics import confusion_matrix\n",
    "from sklearn.metrics import accuracy_score\n",
    "\n",
    "print('Accuracy KNN: %.2f' % (f1_score(y_test, Y_knn)*100))\n",
    "print('Accuracy DT: %.2f' % (f1_score(y_test, Y_dtc)*100))\n",
    "print('Accuracy SVM: %.2f' % (f1_score(y_test, Y_svm)*100))\n",
    "print('Accuracy LR: %.2f' % (f1_score(y_test, Y_lr)*100))\n",
    "print('Accuracy LSVM: %.2f' % (f1_score(y_test, Y_lsvm)*100))\n",
    "print('Accuracy RFE: %.2f' % (f1_score(y_test, Y_rfe)*100))\n",
    "print('F1 Score XGB: %.2f' % (f1_score(y_test, Y_xgb)*100))\n",
    "print(confusion_matrix(y_test, Y_rfe))\n",
    "print(classification_report(y_test, Y_knn))\n",
    "#accuracy_score\n",
    "# roc_auc_score"
   ]
  },
  {
   "cell_type": "markdown",
   "id": "c7a200e3",
   "metadata": {},
   "source": [
    "# Model Evaluation on Validation set"
   ]
  },
  {
   "cell_type": "code",
   "execution_count": 15,
   "id": "18bd0304",
   "metadata": {},
   "outputs": [
    {
     "name": "stdout",
     "output_type": "stream",
     "text": [
      "Accuracy KNN: 74.58\n",
      "Accuracy DT: 74.07\n",
      "Accuracy SVM: 77.97\n",
      "Accuracy LR: 76.36\n",
      "Accuracy LSVM: 78.57\n",
      "Accuracy RFE: 63.16\n",
      "F1 XGB: 79.25\n",
      "[[74 11]\n",
      " [10 18]]\n"
     ]
    }
   ],
   "source": [
    "Y_knn_val = knn.predict(x_val) \n",
    "Y_dtc_val = dtc.predict(x_val) \n",
    "Y_svm_val = svm.predict(x_val) \n",
    "Y_lr_val = LR.predict(x_val) \n",
    "Y_lsvm_val = lsvm.predict(x_val) \n",
    "Y_rfe_val = rfe.predict(x_val)\n",
    "#Y_rfe_val = (rfe.predict_proba(x_val)[:,1] >= 0.2).astype(bool)\n",
    "Y_xgb_val = xgb.predict(x_val) \n",
    "\n",
    "\n",
    "# Evaluate predictions \n",
    "from sklearn.metrics import classification_report\n",
    "from sklearn.metrics import confusion_matrix\n",
    "from sklearn.metrics import accuracy_score\n",
    "\n",
    "print('Accuracy KNN: %.2f' % (f1_score(y_val, Y_knn_val)*100))\n",
    "print('Accuracy DT: %.2f' % (f1_score(y_val, Y_dtc_val)*100))\n",
    "print('Accuracy SVM: %.2f' % (f1_score(y_val, Y_svm_val)*100))\n",
    "print('Accuracy LR: %.2f' % (f1_score(y_val, Y_lr_val)*100))\n",
    "print('Accuracy LSVM: %.2f' % (f1_score(y_val, Y_lsvm_val)*100))\n",
    "print('Accuracy RFE: %.2f' % (f1_score(y_val, Y_rfe_val)*100))\n",
    "print('F1 XGB: %.2f' % (f1_score(y_val, Y_xgb_val)*100))\n",
    "print(confusion_matrix(y_val, Y_rfe_val))\n",
    "#print(classification_report(y_test, Y_svm))"
   ]
  },
  {
   "cell_type": "code",
   "execution_count": null,
   "id": "9f1a8a77",
   "metadata": {},
   "outputs": [],
   "source": []
  }
 ],
 "metadata": {
  "kernelspec": {
   "display_name": "Python 3 (ipykernel)",
   "language": "python",
   "name": "python3"
  },
  "language_info": {
   "codemirror_mode": {
    "name": "ipython",
    "version": 3
   },
   "file_extension": ".py",
   "mimetype": "text/x-python",
   "name": "python",
   "nbconvert_exporter": "python",
   "pygments_lexer": "ipython3",
   "version": "3.9.12"
  }
 },
 "nbformat": 4,
 "nbformat_minor": 5
}
